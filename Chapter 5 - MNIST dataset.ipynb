{
 "cells": [
  {
   "cell_type": "markdown",
   "metadata": {},
   "source": [
    "We adjust the number of input nodes to reflect the number of datapoints in each trainning example."
   ]
  },
  {
   "cell_type": "code",
   "execution_count": 19,
   "metadata": {},
   "outputs": [],
   "source": [
    "import struct as st, numpy as np, matplotlib.pyplot as plt\n",
    "import sys\n",
    "# from IPython.core import page\n",
    "# page.page(variable)\n",
    "# %page -r <variablename>\n",
    "\n",
    "filename = {'images' : 'mnist/train/train-images-idx3-ubyte',\n",
    "            'labels' : 'mnist/train/train-labels-idx1-ubyte'}"
   ]
  },
  {
   "cell_type": "code",
   "execution_count": 23,
   "metadata": {},
   "outputs": [],
   "source": [
    "def read_train_set_images(filename): \n",
    "    images_file = open(filename, 'rb');\n",
    "    images_file.seek(0);\n",
    "    magic = st.unpack('>4B', images_file.read(4));\n",
    "    print(magic);\n",
    "    number_images = st.unpack('>I', images_file.read(4))[0];\n",
    "    number_rows = st.unpack('>I', images_file.read(4))[0];\n",
    "    number_columns = st.unpack('>I', images_file.read(4))[0];\n",
    "    print('Rows: ' + str(number_rows) + 'Columns: ' + str(number_columns));\n",
    "    n_bytes =  1000 * (number_rows * number_columns);\n",
    "    train_array_images = 255 - np.asarray(st.unpack('>' + 'B' * n_bytes, \n",
    "                                    images_file.read(n_bytes))).reshape((1000, number_rows, number_columns));\n",
    "    print('Images: ' + str(train_array_images.shape));\n",
    "    return train_array_images;\n",
    "\n",
    "def read_train_set_labels(filename):\n",
    "    labels_file = open(filename, 'rb');\n",
    "    labels_file.seek(0);\n",
    "    magic_number = st.unpack('>4B', labels_file.read(4));\n",
    "    number_items = st.unpack('>I', labels_file.read(4))[0];\n",
    "    n_bytes = 1000;\n",
    "    train_array_labels =  9 - np.asarray(st.unpack('>' + 'B' * n_bytes,\n",
    "                                            labels_file.read(n_bytes)))\n",
    "    print('Labels: ' + str(train_array_labels.shape));\n",
    "    return train_array_labels;"
   ]
  },
  {
   "cell_type": "code",
   "execution_count": 21,
   "metadata": {},
   "outputs": [
    {
     "ename": "FileNotFoundError",
     "evalue": "[Errno 2] No such file or directory: 'mnist/train/train-images-idx3-ubyte'",
     "output_type": "error",
     "traceback": [
      "\u001b[0;31m---------------------------------------------------------------------------\u001b[0m",
      "\u001b[0;31mFileNotFoundError\u001b[0m                         Traceback (most recent call last)",
      "\u001b[0;32m<ipython-input-21-b43da9bfec04>\u001b[0m in \u001b[0;36m<module>\u001b[0;34m()\u001b[0m\n\u001b[0;32m----> 1\u001b[0;31m \u001b[0mimages_array\u001b[0m \u001b[0;34m=\u001b[0m \u001b[0mread_train_set_images\u001b[0m\u001b[0;34m(\u001b[0m\u001b[0mfilename\u001b[0m\u001b[0;34m[\u001b[0m\u001b[0;34m'images'\u001b[0m\u001b[0;34m]\u001b[0m\u001b[0;34m)\u001b[0m\u001b[0;34m;\u001b[0m\u001b[0;34m\u001b[0m\u001b[0m\n\u001b[0m\u001b[1;32m      2\u001b[0m \u001b[0mlabels_array\u001b[0m \u001b[0;34m=\u001b[0m \u001b[0mread_train_set_labels\u001b[0m\u001b[0;34m(\u001b[0m\u001b[0mfilename\u001b[0m\u001b[0;34m[\u001b[0m\u001b[0;34m'labels'\u001b[0m\u001b[0;34m]\u001b[0m\u001b[0;34m)\u001b[0m\u001b[0;34m;\u001b[0m\u001b[0;34m\u001b[0m\u001b[0m\n\u001b[1;32m      3\u001b[0m \u001b[0mprint\u001b[0m\u001b[0;34m(\u001b[0m\u001b[0mlabels_array\u001b[0m\u001b[0;34m[\u001b[0m\u001b[0;36m0\u001b[0m\u001b[0;34m]\u001b[0m\u001b[0;34m)\u001b[0m\u001b[0;34m;\u001b[0m\u001b[0;34m\u001b[0m\u001b[0m\n",
      "\u001b[0;32m<ipython-input-20-c9a4b458670d>\u001b[0m in \u001b[0;36mread_train_set_images\u001b[0;34m(filename)\u001b[0m\n\u001b[1;32m      1\u001b[0m \u001b[0;32mdef\u001b[0m \u001b[0mread_train_set_images\u001b[0m\u001b[0;34m(\u001b[0m\u001b[0mfilename\u001b[0m\u001b[0;34m)\u001b[0m\u001b[0;34m:\u001b[0m\u001b[0;34m\u001b[0m\u001b[0m\n\u001b[0;32m----> 2\u001b[0;31m     \u001b[0mimages_file\u001b[0m \u001b[0;34m=\u001b[0m \u001b[0mopen\u001b[0m\u001b[0;34m(\u001b[0m\u001b[0mfilename\u001b[0m\u001b[0;34m,\u001b[0m \u001b[0;34m'rb'\u001b[0m\u001b[0;34m)\u001b[0m\u001b[0;34m;\u001b[0m\u001b[0;34m\u001b[0m\u001b[0m\n\u001b[0m\u001b[1;32m      3\u001b[0m     \u001b[0mimages_file\u001b[0m\u001b[0;34m.\u001b[0m\u001b[0mseek\u001b[0m\u001b[0;34m(\u001b[0m\u001b[0;36m0\u001b[0m\u001b[0;34m)\u001b[0m\u001b[0;34m;\u001b[0m\u001b[0;34m\u001b[0m\u001b[0m\n\u001b[1;32m      4\u001b[0m     \u001b[0mmagic\u001b[0m \u001b[0;34m=\u001b[0m \u001b[0mst\u001b[0m\u001b[0;34m.\u001b[0m\u001b[0munpack\u001b[0m\u001b[0;34m(\u001b[0m\u001b[0;34m'>4B'\u001b[0m\u001b[0;34m,\u001b[0m \u001b[0mimages_file\u001b[0m\u001b[0;34m.\u001b[0m\u001b[0mread\u001b[0m\u001b[0;34m(\u001b[0m\u001b[0;36m4\u001b[0m\u001b[0;34m)\u001b[0m\u001b[0;34m)\u001b[0m\u001b[0;34m;\u001b[0m\u001b[0;34m\u001b[0m\u001b[0m\n\u001b[1;32m      5\u001b[0m     \u001b[0mprint\u001b[0m\u001b[0;34m(\u001b[0m\u001b[0mmagic\u001b[0m\u001b[0;34m)\u001b[0m\u001b[0;34m;\u001b[0m\u001b[0;34m\u001b[0m\u001b[0m\n",
      "\u001b[0;31mFileNotFoundError\u001b[0m: [Errno 2] No such file or directory: 'mnist/train/train-images-idx3-ubyte'"
     ]
    }
   ],
   "source": [
    "images_array = read_train_set_images(filename['images']);\n",
    "labels_array = read_train_set_labels(filename['labels']);\n",
    "print(labels_array[0]);"
   ]
  },
  {
   "cell_type": "code",
   "execution_count": null,
   "metadata": {},
   "outputs": [],
   "source": [
    "#flatten example\n",
    "zeros = np.zeros((4, 5, 6, 7, 8));\n",
    "zeros = zeros.reshape((*zeros.shape[:1], -1, *zeros.shape[-1:]));\n",
    "print(zeros.shape);\n",
    "# np.reshape(()) can take a -1 as an argument, meaning 'total array\n",
    "# size divided by product of all other listed dimensions'"
   ]
  },
  {
   "cell_type": "code",
   "execution_count": null,
   "metadata": {},
   "outputs": [],
   "source": [
    "#flatten images array;\n",
    "images_array = images_array.reshape((*images_array.shape[:1], -1));\n",
    "print(images_array.shape);"
   ]
  },
  {
   "cell_type": "markdown",
   "metadata": {},
   "source": [
    "One output node trainning => it wouldn't actually work for we would update the same set weights, therefore the last number(image) predicted would set the weights to recognize those specific patterns. "
   ]
  },
  {
   "cell_type": "markdown",
   "metadata": {},
   "source": [
    "One output node for each of our numbers i.e. 0 to 9;"
   ]
  },
  {
   "cell_type": "code",
   "execution_count: 22,
   "metadata": {},
   "outputs": [],
   "source": [
    "# weights = np.random.rand(784, 10);\n",
    "# alpha = .00000000001;\n",
    "# goal_pred = [];\n",
    "\n",
    "# def goal_pred_by_label(label):\n",
    "#     return {\n",
    "#          0: [1, 0, 0, 0, 0, 0, 0, 0, 0, 0],\n",
    "#          1: [0, 1, 0, 0, 0, 0, 0, 0, 0, 0],\n",
    "#          2: [0, 0, 1, 0, 0, 0, 0, 0, 0, 0],\n",
    "#          3: [0, 0, 0, 1, 0, 0, 0, 0, 0, 0],\n",
    "#          4: [0, 0, 0, 0, 1, 0, 0, 0, 0, 0],\n",
    "#          5: [0, 0, 0, 0, 0, 1, 0, 0, 0, 0],\n",
    "#          6: [0, 0, 0, 0, 0, 0, 1, 0, 0, 0],\n",
    "#          7: [0, 0, 0, 0, 0, 0, 0, 1, 0, 0],\n",
    "#          8: [0, 0, 0, 0, 0, 0, 0, 0, 1, 0],\n",
    "#          9: [0, 0, 0, 0, 0, 0, 0, 0, 0, 1]\n",
    "#     }.get(label);\n",
    "\n",
    "# for i in range(len(images_array)):\n",
    "#     goal_pred.append(goal_pred_by_label(labels_array[i]));\n",
    "    \n",
    "# def calc_delta(pred, labels_array):\n",
    "#     goal_pred, delta = [[], []];\n",
    "#     for i in range(len(labels_array)):\n",
    "#         goal_pred.append(goal_pred_by_label(labels_array[i]));\n",
    "#     for j in range(len(goal_pred)):\n",
    "#         delta.append(np.subtract(pred[j], goal_pred[j]));\n",
    "#     return delta;\n",
    "        \n",
    "# def neural_network(input, weights):\n",
    "#     for i in range(1):\n",
    "#         pred = np.dot(input, weights);\n",
    "#         #print('Weight: ' + str(weights[0]));\n",
    "#         msquared_error = (np.subtract(pred, goal_pred)) ** 2;\n",
    "#         delta = np.subtract(pred, goal_pred);\n",
    "#         weight_delta = np.dot(delta.T, input).T;\n",
    "#         #print('Weight_delta: ' + str(weight_delta[0]));\n",
    "#         #print('Error: ' + str(msquared_error[0]) + '\\n-----------------------------');\n",
    "#         weights = np.subtract(weights, (weight_delta * alpha));\n",
    "#         if(i == 99999 or i == 99998 or i == 99997 or i == 99996):\n",
    "#             print('Error: ' + str(msquared_error[0]) + '\\n-----------------------------');\n",
    "#         #plot_it_all(weights, msquared_error, weight_delta);\n",
    "# #         print('Label: ' + str(labels_array[0]) + ' \\nError: ' + str(msquared_error[0])\n",
    "# #              + '\\nPred: ' + str(pred[0]) + '\\nGoal_pred: ' + str(goal_pred[0]) \n",
    "# #              + '\\n-----------------------------');\n",
    "\n",
    "# def plot_it_all(weights, errors, derivatives):\n",
    "    \n",
    "#     ax1.set_title('How much changing each weight' \n",
    "#                   + '\\n contributed to the error?');\n",
    "#     ax1.set_ylabel('Mean squared error');\n",
    "#     ax1.set_xlabel('Weight');\n",
    "#     ax1.scatter(weights, errors, s=None, c='g');\n",
    "#     ax1.plot(weights, errors);\n",
    "#     for i in range(len(weights)):\n",
    "#         ax1.annotate(i, (weights[i], errors[i]));\n",
    "\n",
    "# neural_network(images_array, weights);7"
   ]
  },
  {
   "cell_type": "markdown",
   "execution_count": 29,
   "metadata": {
    "scrolled": false
   },
   "outputs": [
    {
     "ename": "NameError",
     "evalue": "name 'images_array' is not defined",
     "output_type": "error",
     "traceback": [
      "\u001b[0;31m---------------------------------------------------------------------------\u001b[0m",
      "\u001b[0;31mNameError\u001b[0m                                 Traceback (most recent call last)",
      "\u001b[0;32m<ipython-input-23-1338a41730c4>\u001b[0m in \u001b[0;36m<module>\u001b[0;34m()\u001b[0m\n\u001b[1;32m     12\u001b[0m \u001b[0;32mfor\u001b[0m \u001b[0minteraction\u001b[0m \u001b[0;32min\u001b[0m \u001b[0mrange\u001b[0m\u001b[0;34m(\u001b[0m\u001b[0;36m1000\u001b[0m\u001b[0;34m)\u001b[0m\u001b[0;34m:\u001b[0m\u001b[0;34m\u001b[0m\u001b[0m\n\u001b[1;32m     13\u001b[0m     \u001b[0mmsquared_error_layer_2\u001b[0m\u001b[0;34m,\u001b[0m \u001b[0mcorrect_cnt\u001b[0m \u001b[0;34m=\u001b[0m \u001b[0;34m(\u001b[0m\u001b[0;36m0.0\u001b[0m\u001b[0;34m,\u001b[0m \u001b[0;36m0\u001b[0m\u001b[0;34m)\u001b[0m\u001b[0;34m;\u001b[0m\u001b[0;34m\u001b[0m\u001b[0m\n\u001b[0;32m---> 14\u001b[0;31m     \u001b[0;32mfor\u001b[0m \u001b[0mindex\u001b[0m \u001b[0;32min\u001b[0m \u001b[0mrange\u001b[0m\u001b[0;34m(\u001b[0m\u001b[0mlen\u001b[0m\u001b[0;34m(\u001b[0m\u001b[0mimages_array\u001b[0m\u001b[0;34m)\u001b[0m\u001b[0;34m)\u001b[0m\u001b[0;34m:\u001b[0m\u001b[0;34m\u001b[0m\u001b[0m\n\u001b[0m\u001b[1;32m     15\u001b[0m         \u001b[0;31m#forward propagation\u001b[0m\u001b[0;34m\u001b[0m\u001b[0;34m\u001b[0m\u001b[0m\n\u001b[1;32m     16\u001b[0m         \u001b[0mlayer_0\u001b[0m \u001b[0;34m=\u001b[0m \u001b[0mimages_array\u001b[0m\u001b[0;34m[\u001b[0m\u001b[0mindex\u001b[0m\u001b[0;34m:\u001b[0m\u001b[0mindex\u001b[0m\u001b[0;34m+\u001b[0m\u001b[0;36m1\u001b[0m\u001b[0;34m]\u001b[0m\u001b[0;34m;\u001b[0m\u001b[0;34m\u001b[0m\u001b[0m\n",
      "\u001b[0;31mNameError\u001b[0m: name 'images_array' is not defined]
    }
   ],
   "source": [
    "np.random.seed(1);\n",
    "\n",
    "alpha = .00000001\n",
    "hidden_size = 1000;\n",
    "\n",
    "synapse_0 = .2 * np.random.random((784, hidden_size)) - .1;\n",
    "synapse_1 = .2 * np.random.random((hidden_size, 1)) - .1;\n",
    "\n",
    "relu = lambda x:(x > 0) * x;\n",
    "relu2deriv = lambda x:(x > 0);\n",
    "\n",
    "for interaction in range(1000):\n",
    "    msquared_error_layer_2, correct_cnt = (0.0, 0);\n",
    "    for index in range(len(images_array)):\n",
    "        #forward propagation\n",
    "        layer_0 = images_array[index:index+1];\n",
    "        layer_1 = relu(layer_0.dot(synapse_0));\n",
    "        layer_2 = layer_1.dot(synapse_1);#l_2 = relu(l_0S_0)S_1;\n",
    "        #print(layer_2);\n",
    "        msquared_error_layer_2 += (layer_2 \n",
    "                - labels_array[index:index+1]) ** 2;\n",
    "        correct_cnt += int(layer_2) == labels[index:index+1];\n",
    "        \n",
    "        correct_cnt += (int(layer_2[0][0]) == labels_array[index:index+1]);\n",
    "        pri\n",
    "        layer_2_delta = layer_2 - labels_array[index:index+1];\n",
    "        \n",
    "        layer_1_delta = layer_2_delta.dot(synapse_1.T) * relu2deriv(layer_1);\n",
    "        \n",
    "        synapse_1_delta = layer_1.T.dot(layer_2_delta);\n",
    "        synapse_0_delta = layer_0.T.dot(layer_1_delta);\n",
    "        \n",
    "        synapse_1 -= synapse_1_delta * alpha;\n",
    "        synapse_0 -= synapse_0_delta * alpha;\n",
    "\n",
    "    if(interaction % 10 == 9):\n",
    "        #page -r msquared_error_layer_2;\n",
    "        #print(msquared_error_layer_2);\n",
    "        sys.stdout.write(\"\\r\" + \\\n",
    "                         \" I:\" + str(interaction) + \\\n",
    "                         \" Error:\" + str(msquared_error_layer_2) + \\\n",
    "                         \" Correct:\" + str(correct_cnt/len(images_array)));\n"
   ]
  }
 ],
 "metadata": {
  "kernelspec": {
   "display_name": "Python 3",
   "language": "python",
   "name": "python3"
  },
  "language_info": {
   "codemirror_mode": {
    "name": "ipython",
    "version": 3
   },
   "file_extension": ".py",
   "mimetype": "text/x-python",
   "name": "python",
   "nbconvert_exporter": "python",
   "pygments_lexer": "ipython3",
   "version": "3.5.2"
  }
 },
 "nbformat": 4,
 "nbformat_minor": 2
}
