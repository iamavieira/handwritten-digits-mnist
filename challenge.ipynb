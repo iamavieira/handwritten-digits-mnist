{
 "cells": [
  {
   "cell_type": "markdown",
   "metadata": {},
   "source": [
    "I'll first import the mnist_load notebook just like a python module.\n",
    "This way I don't have to worry about extracting and reshaping\n",
    "the train and test data again."
   ]
  },
  {
   "cell_type": "code",
   "execution_count": 1,
   "metadata": {},
   "outputs": [],
   "source": [
    "import numpy as np\n",
    "import sys"
   ]
  },
  {
   "cell_type": "code",
   "execution_count": 2,
   "metadata": {},
   "outputs": [
    {
     "name": "stdout",
     "output_type": "stream",
     "text": [
      "importing Jupyter notebook from mnist_load.ipynb\n",
      "(0, 0, 8, 3)\n",
      "images_n:60000\n",
      "Rows: 28Columns: 28\n",
      "Images: (1000, 28, 28)\n",
      "Labels: (1000,)\n",
      "(1000, 10)\n",
      "(0, 0, 8, 3)\n",
      "Rows: 28Columns: 28\n",
      "Images: (1000, 28, 28)\n",
      "Labels: (1000,)\n",
      "(1000, 10)\n",
      "(4,)\n",
      "(1000, 784)\n",
      "(1000, 784)\n"
     ]
    }
   ],
   "source": [
    "#It has the code to import notebooks;\n",
    "import ipynb_reader\n",
    "#my notebook that reads and reshape the data;\n",
    "import mnist_load as load\n",
    "\n",
    "train_images_array = load.train_images_array;\n",
    "train_labels_array = load.train_labels_array;\n",
    "test_images_array = load.test_images_array;\n",
    "test_labels_array = load.test_labels_array;"
   ]
  },
  {
   "cell_type": "code",
   "execution_count": 3,
   "metadata": {},
   "outputs": [],
   "source": [
    "#change numpy print threshold;\n",
    "#set to 'inf' if you wish to print the whole vector/matrix; \n",
    "#np.set_printoptions(threshold='1000');"
   ]
  },
  {
   "cell_type": "markdown",
   "metadata": {},
   "source": [
    "Now I'm going to effectively start the challenge:\n",
    "Code our previous neural network logic using the two new methods seen in this chapter i.e. Dropout and mini-batched gradient descent, from of memory."
   ]
  },
  {
   "cell_type": "code",
   "execution_count": 40,
   "metadata": {},
   "outputs": [
    {
     "name": "stdout",
     "output_type": "stream",
     "text": [
      "I: 499 Test_Error: 6.635 Test_Accuracy: 0.739 Train_Error: 3.384 Train_Accuracy: 0.816"
     ]
    }
   ],
   "source": [
    "np.random.seed(1);\n",
    "\n",
    "relu = lambda x : (x > 0) * x;\n",
    "relu2deriv = lambda x : (x > 0);\n",
    "\n",
    "batch_size = 100;\n",
    "alpha, hidden_size, iterations = (.01, 387, 500);\n",
    "pixels_per_image, labels_per_image = (784, 10);\n",
    "\n",
    "synapse_0 =  .2 * np.random.random((pixels_per_image, hidden_size)) - .1;\n",
    "synapse_1 =  .2 * np.random.random((hidden_size, labels_per_image)) - .1;\n",
    "\n",
    "for iteration in range(iterations):\n",
    "    train_msquared_error, train_correct_cnt = .0, .0;\n",
    "    for index in range(int(len(train_images_array)/batch_size)):\n",
    "        batch_start, batch_end = index * batch_size, \\\n",
    "                                    (index + 1) * batch_size;\n",
    "        #forward propagation\n",
    "        layer_0 = train_images_array[batch_start:batch_end];\n",
    "        layer_1 = relu(layer_0.dot(synapse_0));\n",
    "        #dropout mask\n",
    "        dropout_mask = np.random.randint(2, size=layer_1.shape);\n",
    "        layer_1 *= dropout_mask * 2;\n",
    "        \n",
    "        layer_2 = layer_1.dot(synapse_1);\n",
    "        \n",
    "        train_msquared_error += np.sum((layer_2 - \\\n",
    "                                train_labels_array[batch_start:batch_end]) ** 2);\n",
    "        for key in range(batch_size):\n",
    "            train_correct_cnt += np.argmax(layer_2[key:key+1]) \\\n",
    "                                    == np.argmax( \\\n",
    "                                     train_labels_array[batch_start+key:batch_start+key+1]);\n",
    "        \n",
    "        #Global Correlation Summarization\n",
    "        #Backpropagation or cross-communication\n",
    "        layer_2_delta = (layer_2 - train_labels_array[batch_start:batch_end]) / batch_size;\n",
    "        layer_1_delta = layer_2_delta.dot(synapse_1.T) * relu2deriv(layer_1);\n",
    "        \n",
    "        ##is not necessary giving that layer_1 alredy store result within, after dropout multiplication.\n",
    "        #layer_1_delta *= dropout_mask * 2;        \n",
    "\n",
    "        #Local Correlation Summarization\n",
    "        ##Gradient Descent optimization\n",
    "        ###Gradient\n",
    "        synapse_1_delta = layer_1.T.dot(layer_2_delta);\n",
    "        synapse_0_delta = layer_0.T.dot(layer_1_delta);\n",
    "        ##Descent\n",
    "        synapse_1 -= synapse_1_delta * alpha;\n",
    "        synapse_0 -= synapse_0_delta * alpha;\n",
    "    \n",
    "    #time for inference\n",
    "    if(iteration % 10 == 9):\n",
    "        test_msquared_error, test_correct_cnt = 0, 0;\n",
    "        for index in range(len(test_images_array)):\n",
    "            layer_0 = test_images_array[index:index+1];\n",
    "            layer_1 = relu(layer_0.dot(synapse_0));\n",
    "            layer_2 = layer_1.dot(synapse_1);\n",
    "            \n",
    "            test_msquared_error += np.sum((layer_2 \n",
    "                                            - test_labels_array[index:index+1]) ** 2);\n",
    "            test_correct_cnt += np.argmax(layer_2) \\\n",
    "                                        == np.argmax(test_labels_array[index:index+1]);\n",
    "        sys.stdout.write('\\r' + \\\n",
    "                             'I: ' + str(iteration) + \\\n",
    "                             ' Test_Error: ' + str(test_msquared_error/len(test_images_array))[0:5] + \\\n",
    "                             ' Test_Accuracy: ' + str(test_correct_cnt/len(test_images_array)) + \\\n",
    "                             ' Train_Error: ' + str(train_msquared_error/len(train_images_array))[0:5] + \\\n",
    "                             ' Train_Accuracy: ' + str(train_correct_cnt/len(train_images_array)));\n",
    "                             "
   ]
  }
 ],
 "metadata": {
  "kernelspec": {
   "display_name": "Python 3",
   "language": "python",
   "name": "python3"
  },
  "language_info": {
   "codemirror_mode": {
    "name": "ipython",
    "version": 3
   },
   "file_extension": ".py",
   "mimetype": "text/x-python",
   "name": "python",
   "nbconvert_exporter": "python",
   "pygments_lexer": "ipython3",
   "version": "3.5.2"
  }
 },
 "nbformat": 4,
 "nbformat_minor": 2
}
