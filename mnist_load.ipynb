{
 "cells": [
  {
   "cell_type": "markdown",
   "metadata": {},
   "source": [
    "We adjust the number of input nodes to reflect\n",
    "the number of datapoints for in each training example"
   ]
  },
  {
   "cell_type": "code",
   "execution_count": null,
   "metadata": {},
   "outputs": [],
   "source": [
    "import struct as st, numpy as np, matplotlib.pyplot as plt\n",
    "from collections import namedtuple\n",
    "import sys\n",
    "# from IPython.core import page\n",
    "# page.page(variable)\n",
    "# %page -r <variablename>\n",
    "Constants = namedtuple('Constants', 'TRUE_LABEL');\n",
    "constants = Constants(1);\n",
    "\n",
    "filename_train = {'images': 'data/train/train-images-idx3-ubyte',\n",
    "                  'labels': 'data/train/train-labels-idx1-ubyte'};\n",
    "filename_test = {'images': 'data/test/test-images-idx3-ubyte',\n",
    "                 'labels': 'data/test/test-labels-idx1-ubyte'};"
   ]
  },
  {
   "cell_type": "code",
   "execution_count": null,
   "metadata": {},
   "outputs": [],
   "source": [
    "def read_train_set_images(filename): \n",
    "    images_file = open(filename, 'rb');\n",
    "    images_file.seek(0);\n",
    "    magic = st.unpack('>4B', images_file.read(4));\n",
    "    print(magic);\n",
    "    number_images = st.unpack('>I', images_file.read(4))[0];\n",
    "    print('images_n:' + str(number_images));\n",
    "    number_rows = st.unpack('>I', images_file.read(4))[0];\n",
    "    number_columns = st.unpack('>I', images_file.read(4))[0];\n",
    "    print('Rows: ' + str(number_rows) + 'Columns: ' + str(number_columns));\n",
    "    n_bytes =  1000 * (number_rows * number_columns);\n",
    "    train_array_images = 255 - np.asarray(st.unpack('>' + 'B' * n_bytes, \n",
    "                                    images_file.read(n_bytes))).reshape((1000, number_rows, number_columns));\n",
    "    print('Images: ' + str(train_array_images.shape));\n",
    "    return train_array_images;\n",
    "\n",
    "def read_train_set_labels(filename):\n",
    "    labels_file = open(filename, 'rb');\n",
    "    labels_file.seek(0);\n",
    "    magic_number = st.unpack('>4B', labels_file.read(4));\n",
    "    number_items = st.unpack('>I', labels_file.read(4))[0];\n",
    "    n_bytes = 1000;\n",
    "    train_array_labels =  9 - np.asarray(st.unpack('>' + 'B' * n_bytes,\n",
    "                                            labels_file.read(n_bytes)))\n",
    "    print('Labels: ' + str(train_array_labels.shape));\n",
    "    return train_array_labels;"
   ]
  },
  {
   "cell_type": "code",
   "execution_count": null,
   "metadata": {},
   "outputs": [],
   "source": [
    "def read_test_set_images(filename):\n",
    "    images_file = open(filename, 'rb');\n",
    "    images_file.seek(0);\n",
    "    magic = st.unpack('>4B', images_file.read(4));\n",
    "    print(magic);\n",
    "    number_images = st.unpack('>I', images_file.read(4))[0];\n",
    "    number_rows = st.unpack('>I', images_file.read(4))[0];\n",
    "    number_columns = st.unpack('>I', images_file.read(4))[0];\n",
    "    print('Rows: ' + str(number_rows) + 'Columns: ' + str(number_columns));\n",
    "    n_bytes =  1000 * (number_rows * number_columns);\n",
    "    test_array_images = 255 - np.asarray(st.unpack('>' + 'B' * n_bytes, \n",
    "                                    images_file.read(n_bytes))).reshape((1000, number_rows, number_columns));\n",
    "    print('Images: ' + str(test_array_images.shape));\n",
    "    return test_array_images;\n",
    "\n",
    "def read_test_set_labels(filename):\n",
    "    labels_file = open(filename, 'rb');\n",
    "    labels_file.seek(0);\n",
    "    magic_number = st.unpack('>4B', labels_file.read(4));\n",
    "    number_items = st.unpack('>I', labels_file.read(4))[0];\n",
    "    n_bytes = 1000;\n",
    "    test_array_labels =  9 - np.asarray(st.unpack('>' + 'B' * n_bytes,\n",
    "                                            labels_file.read(n_bytes)))\n",
    "    print('Labels: ' + str(test_array_labels.shape));\n",
    "    return test_array_labels;"
   ]
  },
  {
   "cell_type": "code",
   "execution_count": null,
   "metadata": {},
   "outputs": [],
   "source": [
    "#train\n",
    "#defining train images array\n",
    "train_images_array = read_train_set_images(filename_train['images']) / 255;\n",
    "\n",
    "#defining train labels array\n",
    "train_labels_array = read_train_set_labels(filename_train['labels']);\n",
    "one_hot_train_labels = np.zeros((len(train_labels_array), 10));\n",
    "for idx,val in enumerate(train_labels_array):\n",
    "    one_hot_train_labels[idx][val] = constants.TRUE_LABEL;\n",
    "train_labels_array = one_hot_train_labels;\n",
    "\n",
    "#test\n",
    "#defining test images array\n",
    "test_images_array = read_test_set_images(filename_test['images']) / 255;\n",
    "\n",
    "#defining train labels array\n",
    "test_labels_array = read_test_set_labels(filename_test['labels']);\n",
    "one_hot_test_labels = np.zeros((len(test_labels_array), 10));\n",
    "for idx,val in enumerate(test_labels_array):\n",
    "    one_hot_test_labels[idx][val] = constants.TRUE_LABEL\n",
    "test_labels_array = one_hot_test_labels;"
   ]
  },
  {
   "cell_type": "code",
   "execution_count": null,
   "metadata": {},
   "outputs": [],
   "source": [
    "#flatten example\n",
    "zeros = np.zeros((4, 5, 6, 7, 8));\n",
    "zeros = zeros.reshape((*zeros.shape[:1], -1, *zeros.shape[-1:]));\n",
    "print(zeros.shape[:1]);\n",
    "# np.reshape(()) can take a -1 as an argument, meaning 'total array\n",
    "# size divided by product of all other listed dimensions'"
   ]
  },
  {
   "cell_type": "code",
   "execution_count": null,
   "metadata": {},
   "outputs": [],
   "source": [
    "#flatten train images array;\n",
    "#train_images_array = train_images_array.reshape((*train_images_array.shape[:1], -1));\n",
    "print('train_images_array: ' + str(train_images_array.shape));\n",
    "\n",
    "#flatten test images array;\n",
    "#test_images_array = test_images_array.reshape((*test_images_array.shape[:1], -1));\n",
    "print('test_images_array: ' + str(test_images_array.shape));"
   ]
  }
 ],
 "metadata": {
  "kernelspec": {
   "display_name": "Python 3",
   "language": "python",
   "name": "python3"
  },
  "language_info": {
   "codemirror_mode": {
    "name": "ipython",
    "version": 3
   },
   "file_extension": ".py",
   "mimetype": "text/x-python",
   "name": "python",
   "nbconvert_exporter": "python",
   "pygments_lexer": "ipython3",
   "version": "3.5.2"
  }
 },
 "nbformat": 4,
 "nbformat_minor": 2
}
